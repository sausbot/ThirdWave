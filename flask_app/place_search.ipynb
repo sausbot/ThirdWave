{
 "cells": [
  {
   "cell_type": "code",
   "execution_count": 9,
   "metadata": {},
   "outputs": [],
   "source": [
    "import requests\n",
    "from geopy.geocoders import Nominatim"
   ]
  },
  {
   "cell_type": "code",
   "execution_count": 2,
   "metadata": {},
   "outputs": [],
   "source": [
    "KEY = ''"
   ]
  },
  {
   "cell_type": "code",
   "execution_count": 12,
   "metadata": {},
   "outputs": [
    {
     "name": "stdout",
     "output_type": "stream",
     "text": [
      "(48.8588897, 2.3200410217200766)\n"
     ]
    }
   ],
   "source": [
    "geolocator = Nominatim(user_agent=\"ThirdWave\")\n",
    "location = geolocator.geocode(\"Paris\")\n",
    "print((location.latitude, location.longitude))\n",
    "lat = location.latitude\n",
    "long = location.longitude"
   ]
  },
  {
   "cell_type": "code",
   "execution_count": 47,
   "metadata": {},
   "outputs": [],
   "source": [
    "params = {\n",
    "    'location': f'{lat},{long}',\n",
    "    'radius': '2000',\n",
    "    'type': 'cafe',\n",
    "    'keyword': 'coffee shop',\n",
    "    'key': KEY,\n",
    "}\n",
    "\n",
    "response = requests.get('https://maps.googleapis.com/maps/api/place/nearbysearch/json', params=params)"
   ]
  },
  {
   "cell_type": "code",
   "execution_count": 46,
   "metadata": {},
   "outputs": [],
   "source": [
    "import requests\n",
    "\n",
    "params = {\n",
    "    'input': 'Coffee Shop',\n",
    "    'inputtype': 'textquery',\n",
    "    'locationbias' : f'circle:1500@{lat},{long}',\n",
    "    'fields': 'formatted_address,name,rating,opening_hours,geometry',\n",
    "    'key': KEY,\n",
    "}\n",
    "\n",
    "response = requests.get('https://maps.googleapis.com/maps/api/place/findplacefromtext/json', params=params)"
   ]
  },
  {
   "cell_type": "code",
   "execution_count": 48,
   "metadata": {},
   "outputs": [],
   "source": [
    "r=response.json()"
   ]
  },
  {
   "cell_type": "code",
   "execution_count": null,
   "metadata": {},
   "outputs": [],
   "source": [
    "print(r)"
   ]
  },
  {
   "cell_type": "code",
   "execution_count": 50,
   "metadata": {},
   "outputs": [
    {
     "name": "stdout",
     "output_type": "stream",
     "text": [
      "Café Caillou\n",
      "210 Rue de Grenelle, Paris\n",
      "4.8\n",
      "AUBURN PARIS\n",
      "2 Rue Édouard VII, Paris\n",
      "4.6\n",
      "coffeeme\n",
      "99 Rue Saint-Dominique, Paris\n",
      "4.8\n",
      "Café Frappé\n",
      "95 Rue Montmartre, Paris\n",
      "4.4\n",
      "Delicieux Montmartre\n",
      "29 Rue du Faubourg Montmartre 75009, Paris\n",
      "4.6\n",
      "Le Café Noir\n",
      "65 Rue Montmartre, Paris\n",
      "4.2\n",
      "PIADiNE\n",
      "20 Rue St Denis, Paris\n",
      "4\n",
      "Café QJ\n",
      "4 Pl. du Louvre, Paris\n",
      "4.8\n",
      "Café Caumartin\n",
      "13 Rue de Caumartin, Paris\n",
      "4\n",
      "Carpe Diem Café - Paris\n",
      "21 Rue des Halles, Paris\n",
      "4.4\n",
      "Au Café Jaby\n",
      "77 Rue Lecourbe, Paris\n",
      "4.6\n",
      "Crêperie Elo & coffee shop\n",
      "49 Bd Saint-Michel, Paris\n",
      "4.9\n",
      "Blue Buoi café\n",
      "50 Bd de Vaugirard, Paris\n",
      "4.1\n",
      "Café Fleurus\n",
      "2 Rue de Fleurus, Paris\n",
      "4.1\n",
      "Café\n",
      "4 Rue Saint-Séverin, Paris\n",
      "3.7\n",
      "Hostel and specialty coffee\n",
      "22 Rue Saint-Séverin, Paris\n",
      "4.1\n",
      "Café de Paris\n",
      "10 Rue de Buci, Paris\n",
      "4\n",
      "Café Montorgueil\n",
      "55 Rue Montorgueil, Paris\n",
      "4.1\n",
      "CAFÉ LATERAL\n",
      "4 Av. Mac-Mahon, Paris\n",
      "4.2\n",
      "CORNER CAFE\n",
      "29 Rue du 4 septembre, Paris\n",
      "3.7\n"
     ]
    }
   ],
   "source": [
    "for r in r[\"results\"]:\n",
    "    print(r[\"name\"])\n",
    "    print(r[\"vicinity\"])\n",
    "    print(r[\"rating\"])"
   ]
  },
  {
   "cell_type": "code",
   "execution_count": 81,
   "metadata": {},
   "outputs": [
    {
     "name": "stdout",
     "output_type": "stream",
     "text": [
      "(47.3744489, 8.5410422)\n"
     ]
    }
   ],
   "source": [
    "geolocator = Nominatim(user_agent=\"ThirdWave\")\n",
    "location = geolocator.geocode(\"Zurich\")\n",
    "print((location.latitude, location.longitude))\n",
    "lat = location.latitude\n",
    "long = location.longitude"
   ]
  },
  {
   "cell_type": "code",
   "execution_count": 82,
   "metadata": {},
   "outputs": [],
   "source": [
    "params = {\n",
    "    'location': f'{lat},{long}',\n",
    "    'radius': '5000',\n",
    "    'keyword': 'coffee shop',\n",
    "    'key': KEY,\n",
    "}\n",
    "\n",
    "response = requests.get('https://maps.googleapis.com/maps/api/place/nearbysearch/json', params=params)"
   ]
  },
  {
   "cell_type": "code",
   "execution_count": null,
   "metadata": {},
   "outputs": [],
   "source": [
    "r=response.json()\n",
    "print(r)"
   ]
  },
  {
   "cell_type": "code",
   "execution_count": 84,
   "metadata": {},
   "outputs": [
    {
     "name": "stdout",
     "output_type": "stream",
     "text": [
      "ROBIN'S bar & coffee\n",
      "Zähringerstrasse 33, Zürich\n",
      "4.8\n",
      "Lokal Zürich\n",
      "Rotbuchstrasse 66, Zürich\n",
      "4.3\n",
      "La Stanza\n",
      "Bleicherweg 10, Zürich\n",
      "4.5\n",
      "Kon-Tiki Coffeeshop & Bar\n",
      "Niederdorfstrasse 24, Zürich\n",
      "4.5\n",
      "Coffee & Deeds\n",
      "Altwiesenstrasse 181, Zürich\n",
      "4.9\n",
      "Franzos Coffee Shop\n",
      "Limmatquai 138, Zürich\n",
      "4.4\n",
      "Amiamo Caffè\n",
      "Sihlfeldstrasse 63, Zürich\n",
      "4.9\n",
      "Starbucks\n",
      "Bahnhofplatz 6, Zürich\n",
      "4\n",
      "Belmondo\n",
      "Röschibachstrasse 75, Zürich\n",
      "4.7\n",
      "Auer & Co.\n",
      "Sihlquai 131, Zürich\n",
      "4.6\n",
      "Café Henrici\n",
      "Niederdorfstrasse 1, Zürich\n",
      "4.4\n",
      "Coffee bar Porta d'Oro\n",
      "Franklinstrasse 6, Zürich\n",
      "4.7\n",
      "Kleine Freiheit\n",
      "Weinbergstrasse 30, Zürich\n",
      "4.6\n",
      "Rathaus-Café\n",
      "Limmatquai 61, Zürich\n",
      "4.2\n",
      "Oscar Café\n",
      "Bahnhofplatz 15, Zürich\n",
      "4\n",
      "LANG\n",
      "Limmatpl. 7, Zürich\n",
      "4.1\n",
      "Norden Cafe\n",
      "Ankerstrasse 123, Zürich\n",
      "5\n",
      "Kraftwerk\n",
      "Selnaustrasse 25, Zürich\n",
      "4.5\n",
      "Rio Bar\n",
      "Gessnerallee 17, Zürich\n",
      "4.3\n",
      "Pret A Manger Hauptbahnhof Zürich\n",
      "Halle Landesmuseum, Hauptbahnhof, Zürich\n",
      "4.4\n"
     ]
    }
   ],
   "source": [
    "for place in r[\"results\"]:\n",
    "    print(place[\"name\"])\n",
    "    print(place[\"vicinity\"])\n",
    "    print(place[\"rating\"])"
   ]
  },
  {
   "cell_type": "code",
   "execution_count": 85,
   "metadata": {},
   "outputs": [
    {
     "name": "stdout",
     "output_type": "stream",
     "text": [
      "20\n"
     ]
    }
   ],
   "source": [
    "print(len(r[\"results\"]))"
   ]
  },
  {
   "cell_type": "code",
   "execution_count": 86,
   "metadata": {},
   "outputs": [
    {
     "data": {
      "text/plain": [
       "3"
      ]
     },
     "execution_count": 86,
     "metadata": {},
     "output_type": "execute_result"
    }
   ],
   "source": [
    "import random\n",
    "\n",
    "random.randint(0,len(r[\"results\"]))"
   ]
  },
  {
   "cell_type": "code",
   "execution_count": 87,
   "metadata": {},
   "outputs": [
    {
     "data": {
      "text/plain": [
       "'Franzos Coffee Shop'"
      ]
     },
     "execution_count": 87,
     "metadata": {},
     "output_type": "execute_result"
    }
   ],
   "source": [
    "r[\"results\"][5][\"name\"]"
   ]
  }
 ],
 "metadata": {
  "kernelspec": {
   "display_name": "Python 3",
   "language": "python",
   "name": "python3"
  },
  "language_info": {
   "codemirror_mode": {
    "name": "ipython",
    "version": 3
   },
   "file_extension": ".py",
   "mimetype": "text/x-python",
   "name": "python",
   "nbconvert_exporter": "python",
   "pygments_lexer": "ipython3",
   "version": "3.10.12"
  }
 },
 "nbformat": 4,
 "nbformat_minor": 2
}
